{
 "cells": [
  {
   "cell_type": "markdown",
   "metadata": {},
   "source": [
    "## Installing required packages\n",
    "Install nltk, pandas, gensim packages by performing the following commands in the terminal or command prompt:\n",
    "`pip install --upgrade nltk pandas gensim`\n",
    "or\n",
    "`conda install nltk pandas gensim`\n",
    "based on the python environment of your choice"
   ]
  },
  {
   "cell_type": "code",
   "execution_count": 1,
   "metadata": {},
   "outputs": [],
   "source": [
    "import numpy as np\n",
    "from nltk.tokenize import WordPunctTokenizer\n",
    "import pandas as pd\n",
    "from gensim.models import Word2Vec"
   ]
  },
  {
   "cell_type": "code",
   "execution_count": 2,
   "metadata": {},
   "outputs": [
    {
     "data": {
      "text/html": [
       "<div>\n",
       "<style scoped>\n",
       "    .dataframe tbody tr th:only-of-type {\n",
       "        vertical-align: middle;\n",
       "    }\n",
       "\n",
       "    .dataframe tbody tr th {\n",
       "        vertical-align: top;\n",
       "    }\n",
       "\n",
       "    .dataframe thead th {\n",
       "        text-align: right;\n",
       "    }\n",
       "</style>\n",
       "<table border=\"1\" class=\"dataframe\">\n",
       "  <thead>\n",
       "    <tr style=\"text-align: right;\">\n",
       "      <th></th>\n",
       "      <th>qa_id</th>\n",
       "      <th>question_title</th>\n",
       "      <th>question_body</th>\n",
       "      <th>question_user_name</th>\n",
       "      <th>question_user_page</th>\n",
       "      <th>answer</th>\n",
       "      <th>answer_user_name</th>\n",
       "      <th>answer_user_page</th>\n",
       "      <th>url</th>\n",
       "      <th>category</th>\n",
       "      <th>...</th>\n",
       "      <th>question_well_written</th>\n",
       "      <th>answer_helpful</th>\n",
       "      <th>answer_level_of_information</th>\n",
       "      <th>answer_plausible</th>\n",
       "      <th>answer_relevance</th>\n",
       "      <th>answer_satisfaction</th>\n",
       "      <th>answer_type_instructions</th>\n",
       "      <th>answer_type_procedure</th>\n",
       "      <th>answer_type_reason_explanation</th>\n",
       "      <th>answer_well_written</th>\n",
       "    </tr>\n",
       "  </thead>\n",
       "  <tbody>\n",
       "    <tr>\n",
       "      <td>0</td>\n",
       "      <td>0</td>\n",
       "      <td>What am I losing when using extension tubes in...</td>\n",
       "      <td>After playing around with macro photography on...</td>\n",
       "      <td>ysap</td>\n",
       "      <td>https://photo.stackexchange.com/users/1024</td>\n",
       "      <td>I just got extension tubes, so here's the skin...</td>\n",
       "      <td>rfusca</td>\n",
       "      <td>https://photo.stackexchange.com/users/1917</td>\n",
       "      <td>http://photo.stackexchange.com/questions/9169/...</td>\n",
       "      <td>LIFE_ARTS</td>\n",
       "      <td>...</td>\n",
       "      <td>1.000000</td>\n",
       "      <td>1.000000</td>\n",
       "      <td>0.666667</td>\n",
       "      <td>1.000000</td>\n",
       "      <td>1.000000</td>\n",
       "      <td>0.800000</td>\n",
       "      <td>1.0</td>\n",
       "      <td>0.000000</td>\n",
       "      <td>0.000000</td>\n",
       "      <td>1.000000</td>\n",
       "    </tr>\n",
       "    <tr>\n",
       "      <td>1</td>\n",
       "      <td>1</td>\n",
       "      <td>What is the distinction between a city and a s...</td>\n",
       "      <td>I am trying to understand what kinds of places...</td>\n",
       "      <td>russellpierce</td>\n",
       "      <td>https://rpg.stackexchange.com/users/8774</td>\n",
       "      <td>It might be helpful to look into the definitio...</td>\n",
       "      <td>Erik Schmidt</td>\n",
       "      <td>https://rpg.stackexchange.com/users/1871</td>\n",
       "      <td>http://rpg.stackexchange.com/questions/47820/w...</td>\n",
       "      <td>CULTURE</td>\n",
       "      <td>...</td>\n",
       "      <td>0.888889</td>\n",
       "      <td>0.888889</td>\n",
       "      <td>0.555556</td>\n",
       "      <td>0.888889</td>\n",
       "      <td>0.888889</td>\n",
       "      <td>0.666667</td>\n",
       "      <td>0.0</td>\n",
       "      <td>0.000000</td>\n",
       "      <td>0.666667</td>\n",
       "      <td>0.888889</td>\n",
       "    </tr>\n",
       "    <tr>\n",
       "      <td>2</td>\n",
       "      <td>2</td>\n",
       "      <td>Maximum protusion length for through-hole comp...</td>\n",
       "      <td>I'm working on a PCB that has through-hole com...</td>\n",
       "      <td>Joe Baker</td>\n",
       "      <td>https://electronics.stackexchange.com/users/10157</td>\n",
       "      <td>Do you even need grooves?  We make several pro...</td>\n",
       "      <td>Dwayne Reid</td>\n",
       "      <td>https://electronics.stackexchange.com/users/64754</td>\n",
       "      <td>http://electronics.stackexchange.com/questions...</td>\n",
       "      <td>SCIENCE</td>\n",
       "      <td>...</td>\n",
       "      <td>0.777778</td>\n",
       "      <td>0.777778</td>\n",
       "      <td>0.555556</td>\n",
       "      <td>1.000000</td>\n",
       "      <td>1.000000</td>\n",
       "      <td>0.666667</td>\n",
       "      <td>0.0</td>\n",
       "      <td>0.333333</td>\n",
       "      <td>1.000000</td>\n",
       "      <td>0.888889</td>\n",
       "    </tr>\n",
       "    <tr>\n",
       "      <td>3</td>\n",
       "      <td>3</td>\n",
       "      <td>Can an affidavit be used in Beit Din?</td>\n",
       "      <td>An affidavit, from what i understand, is basic...</td>\n",
       "      <td>Scimonster</td>\n",
       "      <td>https://judaism.stackexchange.com/users/5151</td>\n",
       "      <td>Sending an \"affidavit\" it is a dispute between...</td>\n",
       "      <td>Y     e     z</td>\n",
       "      <td>https://judaism.stackexchange.com/users/4794</td>\n",
       "      <td>http://judaism.stackexchange.com/questions/551...</td>\n",
       "      <td>CULTURE</td>\n",
       "      <td>...</td>\n",
       "      <td>0.888889</td>\n",
       "      <td>0.833333</td>\n",
       "      <td>0.333333</td>\n",
       "      <td>0.833333</td>\n",
       "      <td>1.000000</td>\n",
       "      <td>0.800000</td>\n",
       "      <td>0.0</td>\n",
       "      <td>0.000000</td>\n",
       "      <td>1.000000</td>\n",
       "      <td>1.000000</td>\n",
       "    </tr>\n",
       "    <tr>\n",
       "      <td>4</td>\n",
       "      <td>5</td>\n",
       "      <td>How do you make a binary image in Photoshop?</td>\n",
       "      <td>I am trying to make a binary image. I want mor...</td>\n",
       "      <td>leigero</td>\n",
       "      <td>https://graphicdesign.stackexchange.com/users/...</td>\n",
       "      <td>Check out Image Trace in Adobe Illustrator. \\n...</td>\n",
       "      <td>q2ra</td>\n",
       "      <td>https://graphicdesign.stackexchange.com/users/...</td>\n",
       "      <td>http://graphicdesign.stackexchange.com/questio...</td>\n",
       "      <td>LIFE_ARTS</td>\n",
       "      <td>...</td>\n",
       "      <td>1.000000</td>\n",
       "      <td>1.000000</td>\n",
       "      <td>0.666667</td>\n",
       "      <td>1.000000</td>\n",
       "      <td>1.000000</td>\n",
       "      <td>0.800000</td>\n",
       "      <td>1.0</td>\n",
       "      <td>0.000000</td>\n",
       "      <td>1.000000</td>\n",
       "      <td>1.000000</td>\n",
       "    </tr>\n",
       "  </tbody>\n",
       "</table>\n",
       "<p>5 rows × 41 columns</p>\n",
       "</div>"
      ],
      "text/plain": [
       "   qa_id                                     question_title  \\\n",
       "0      0  What am I losing when using extension tubes in...   \n",
       "1      1  What is the distinction between a city and a s...   \n",
       "2      2  Maximum protusion length for through-hole comp...   \n",
       "3      3              Can an affidavit be used in Beit Din?   \n",
       "4      5       How do you make a binary image in Photoshop?   \n",
       "\n",
       "                                       question_body question_user_name  \\\n",
       "0  After playing around with macro photography on...               ysap   \n",
       "1  I am trying to understand what kinds of places...      russellpierce   \n",
       "2  I'm working on a PCB that has through-hole com...          Joe Baker   \n",
       "3  An affidavit, from what i understand, is basic...         Scimonster   \n",
       "4  I am trying to make a binary image. I want mor...            leigero   \n",
       "\n",
       "                                  question_user_page  \\\n",
       "0         https://photo.stackexchange.com/users/1024   \n",
       "1           https://rpg.stackexchange.com/users/8774   \n",
       "2  https://electronics.stackexchange.com/users/10157   \n",
       "3       https://judaism.stackexchange.com/users/5151   \n",
       "4  https://graphicdesign.stackexchange.com/users/...   \n",
       "\n",
       "                                              answer answer_user_name  \\\n",
       "0  I just got extension tubes, so here's the skin...           rfusca   \n",
       "1  It might be helpful to look into the definitio...     Erik Schmidt   \n",
       "2  Do you even need grooves?  We make several pro...      Dwayne Reid   \n",
       "3  Sending an \"affidavit\" it is a dispute between...    Y     e     z   \n",
       "4  Check out Image Trace in Adobe Illustrator. \\n...             q2ra   \n",
       "\n",
       "                                    answer_user_page  \\\n",
       "0         https://photo.stackexchange.com/users/1917   \n",
       "1           https://rpg.stackexchange.com/users/1871   \n",
       "2  https://electronics.stackexchange.com/users/64754   \n",
       "3       https://judaism.stackexchange.com/users/4794   \n",
       "4  https://graphicdesign.stackexchange.com/users/...   \n",
       "\n",
       "                                                 url   category  ...  \\\n",
       "0  http://photo.stackexchange.com/questions/9169/...  LIFE_ARTS  ...   \n",
       "1  http://rpg.stackexchange.com/questions/47820/w...    CULTURE  ...   \n",
       "2  http://electronics.stackexchange.com/questions...    SCIENCE  ...   \n",
       "3  http://judaism.stackexchange.com/questions/551...    CULTURE  ...   \n",
       "4  http://graphicdesign.stackexchange.com/questio...  LIFE_ARTS  ...   \n",
       "\n",
       "  question_well_written  answer_helpful  answer_level_of_information  \\\n",
       "0              1.000000        1.000000                     0.666667   \n",
       "1              0.888889        0.888889                     0.555556   \n",
       "2              0.777778        0.777778                     0.555556   \n",
       "3              0.888889        0.833333                     0.333333   \n",
       "4              1.000000        1.000000                     0.666667   \n",
       "\n",
       "   answer_plausible  answer_relevance  answer_satisfaction  \\\n",
       "0          1.000000          1.000000             0.800000   \n",
       "1          0.888889          0.888889             0.666667   \n",
       "2          1.000000          1.000000             0.666667   \n",
       "3          0.833333          1.000000             0.800000   \n",
       "4          1.000000          1.000000             0.800000   \n",
       "\n",
       "   answer_type_instructions  answer_type_procedure  \\\n",
       "0                       1.0               0.000000   \n",
       "1                       0.0               0.000000   \n",
       "2                       0.0               0.333333   \n",
       "3                       0.0               0.000000   \n",
       "4                       1.0               0.000000   \n",
       "\n",
       "   answer_type_reason_explanation  answer_well_written  \n",
       "0                        0.000000             1.000000  \n",
       "1                        0.666667             0.888889  \n",
       "2                        1.000000             0.888889  \n",
       "3                        1.000000             1.000000  \n",
       "4                        1.000000             1.000000  \n",
       "\n",
       "[5 rows x 41 columns]"
      ]
     },
     "execution_count": 2,
     "metadata": {},
     "output_type": "execute_result"
    }
   ],
   "source": [
    "df = pd.read_csv(\"./train.csv\")\n",
    "df.head()"
   ]
  },
  {
   "cell_type": "code",
   "execution_count": 3,
   "metadata": {},
   "outputs": [],
   "source": [
    "question_title = df[\"question_title\"]\n",
    "question_body = df[\"question_body\"]\n",
    "answer = df[\"answer\"]"
   ]
  },
  {
   "cell_type": "code",
   "execution_count": 4,
   "metadata": {},
   "outputs": [
    {
     "name": "stdout",
     "output_type": "stream",
     "text": [
      "['how', 'often', 'do', 'i', 'need', 'to', 'change', 'my', 'oil', 'in', 'a', 'vw', 'tdi', '?']\n"
     ]
    }
   ],
   "source": [
    "# Create an object for word tokenizer\n",
    "tokenizer = WordPunctTokenizer()\n",
    "print(tokenizer.tokenize(question_title[20].lower()))"
   ]
  },
  {
   "cell_type": "code",
   "execution_count": 5,
   "metadata": {},
   "outputs": [],
   "source": [
    "# Create tokenized lists of question title, question body and answer\n",
    "tokenized_q_title = list()\n",
    "for line in question_title:\n",
    "    tokenized_q_title.append(tokenizer.tokenize(line.lower()))\n",
    "\n",
    "tokenized_q_body = list()\n",
    "for line in question_body:\n",
    "    tokenized_q_body.append(tokenizer.tokenize(line.lower()))\n",
    "\n",
    "tokenized_answer = list()\n",
    "for line in answer:\n",
    "    tokenized_answer.append(tokenizer.tokenize(line.lower()))"
   ]
  },
  {
   "cell_type": "code",
   "execution_count": 6,
   "metadata": {},
   "outputs": [
    {
     "name": "stdout",
     "output_type": "stream",
     "text": [
      "['i', 'think', 'you', 'need', 'to', 'read', 'about', 'projects', 'and', 'solutions', ':', 'http', '://', 'msdn', '.', 'microsoft', '.', 'com', '/', 'en', '-', 'us', '/', 'library', '/', 'ee817674', '.', 'aspx', 'and', 'after', 'that', 'it', 'all', 'becomes', 'more', 'clear', ':', 'have', 'one', 'solution', ',', 'inside', 'of', 'that', 'solution', 'create', 'a', 'project', 'for', 'your', 'application', 'and', 'a', 'project', 'for', 'your', 'unit', '-', 'tests', '.', 'in', 'test', '-', 'project', 'add', 'reference', 'to', 'the', 'testing', 'framework', 'of', 'your', 'choice', 'and', 'a', 'reference', 'to', 'your', 'application', '-', 'project', '.', 'this', 'way', 'your', 'application', 'does', 'not', 'know', 'about', 'your', 'tests', 'and', 'compiled', 'into', 'one', 'assembly', '.', 'at', 'the', 'same', 'time', 'your', 'tests', 'depend', 'on', 'your', 'application', ',', 'but', 'compiled', 'into', 'another', 'assembly', ',', 'which', 'can', 'be', 'used', 'by', 'your', 'test', '-', 'runner', 'gui', '/', 'ci', 'or', 'whatever', 'else', 'you', 'use', '.', 'and', 'to', 'answer', 'your', 'next', 'question', ',', 'for', 'test', '-', 'project', 'you', 'need', 'to', 'choose', 'project', 'type', 'of', '\"', 'library', '\"', '(', 'console', 'application', 'will', 'work', 'as', 'well', 'if', 'you', 'like', ')']\n"
     ]
    }
   ],
   "source": [
    "# Checking if the answer block is well tokenized\n",
    "print(tokenized_answer[34])"
   ]
  },
  {
   "cell_type": "code",
   "execution_count": 7,
   "metadata": {},
   "outputs": [
    {
     "name": "stdout",
     "output_type": "stream",
     "text": [
      "i think you need to read about projects and solutions : http :// msdn . microsoft . com / en - us / library / ee817674 . aspx and after that it all becomes more clear : have one solution , inside of that solution create a project for your application and a project for your unit - tests . in test - project add reference to the testing framework of your choice and a reference to your application - project . this way your application does not know about your tests and compiled into one assembly . at the same time your tests depend on your application , but compiled into another assembly , which can be used by your test - runner gui / ci or whatever else you use . and to answer your next question , for test - project you need to choose project type of \" library \" ( console application will work as well if you like )\n"
     ]
    }
   ],
   "source": [
    "# Joining the tokenized answer\n",
    "print(' '.join(tokenized_answer[34]))"
   ]
  },
  {
   "cell_type": "code",
   "execution_count": 8,
   "metadata": {},
   "outputs": [],
   "source": [
    "model = Word2Vec(tokenized_q_body, size=40, min_count=5, window=6).wv"
   ]
  },
  {
   "cell_type": "code",
   "execution_count": 9,
   "metadata": {},
   "outputs": [
    {
     "data": {
      "text/plain": [
       "array([ 0.18203267, -0.1384882 ,  0.00966626,  0.12690865, -0.28199565,\n",
       "        0.14752762,  0.09058268,  0.18658027, -0.3836865 , -0.2635417 ,\n",
       "       -0.26915047, -0.2784006 , -0.15969494, -0.20479788, -0.05521997,\n",
       "        0.03018031,  0.65504354, -0.07847816,  0.24263659,  0.5578137 ,\n",
       "       -0.18462616,  0.19743758, -0.37640756,  0.06871933,  0.04111285,\n",
       "        0.23510045, -0.0541443 , -0.041373  , -0.1284858 ,  0.0113073 ,\n",
       "       -0.18097658,  0.21724087,  0.4504592 ,  0.31373334,  0.15891254,\n",
       "        0.23489682, -0.25656214,  0.07341169, -0.16092066,  0.40183562],\n",
       "      dtype=float32)"
      ]
     },
     "execution_count": 9,
     "metadata": {},
     "output_type": "execute_result"
    }
   ],
   "source": [
    "model.get_vector(\"framework\")       # Some random word in the question_title column in the dataset"
   ]
  },
  {
   "cell_type": "code",
   "execution_count": 10,
   "metadata": {},
   "outputs": [
    {
     "data": {
      "text/plain": [
       "[('app', 0.859724760055542),\n",
       " ('website', 0.783863365650177),\n",
       " ('configuration', 0.7782309055328369),\n",
       " ('setup', 0.7724300026893616),\n",
       " ('wordpress', 0.7642975449562073),\n",
       " ('application', 0.7601040601730347),\n",
       " ('web', 0.7523177862167358),\n",
       " ('successfully', 0.7475973963737488),\n",
       " ('computer', 0.7407457828521729),\n",
       " ('working', 0.7406514286994934)]"
      ]
     },
     "execution_count": 10,
     "metadata": {},
     "output_type": "execute_result"
    }
   ],
   "source": [
    "model.most_similar(\"project\")"
   ]
  },
  {
   "cell_type": "code",
   "execution_count": 11,
   "metadata": {},
   "outputs": [],
   "source": [
    "all_sentences = list()      # All corpus available in the dataset\n",
    "\n",
    "for line in tokenized_q_title:\n",
    "    all_sentences.append(line)\n",
    "\n",
    "for line in tokenized_q_body:\n",
    "    all_sentences.append(line)\n",
    "\n",
    "for line in tokenized_answer:\n",
    "    all_sentences.append(line)\n",
    "\n",
    "# print(all_sentences[100])\n",
    "\n",
    "large_model = Word2Vec(all_sentences, size=40, min_count=5, window=6).wv"
   ]
  },
  {
   "cell_type": "code",
   "execution_count": 12,
   "metadata": {},
   "outputs": [
    {
     "data": {
      "text/plain": [
       "array([ 0.3438575 , -0.47977808, -0.37075818,  0.64499336, -0.15111974,\n",
       "        0.11152916, -0.3981679 , -0.31392008, -0.22092393, -0.8772451 ,\n",
       "       -0.21132411,  0.0458063 , -0.38828593, -0.38899082, -0.12015202,\n",
       "       -0.34931326,  0.8198952 , -0.3177678 , -0.13692953,  0.60298496,\n",
       "       -0.59684587,  0.12603085, -0.53726774, -0.16795228, -0.14232261,\n",
       "        0.15524663, -0.46503446,  0.16323006, -0.3397545 , -0.08717102,\n",
       "       -0.2570972 ,  0.20362075,  0.30667374,  0.12126993,  0.43788797,\n",
       "       -0.43325633, -0.7696548 ,  0.06870513,  0.15370421,  0.10153654],\n",
       "      dtype=float32)"
      ]
     },
     "execution_count": 12,
     "metadata": {},
     "output_type": "execute_result"
    }
   ],
   "source": [
    "large_model.get_vector(\"framework\")"
   ]
  },
  {
   "cell_type": "code",
   "execution_count": 13,
   "metadata": {},
   "outputs": [
    {
     "data": {
      "text/plain": [
       "[('app', 0.8827044367790222),\n",
       " ('website', 0.8477051854133606),\n",
       " ('application', 0.8145719766616821),\n",
       " ('plugin', 0.8136230707168579),\n",
       " ('setup', 0.7963675260543823),\n",
       " ('configuration', 0.7911832332611084),\n",
       " ('blog', 0.7865884304046631),\n",
       " ('wordpress', 0.7836558818817139),\n",
       " ('browser', 0.7812919616699219),\n",
       " ('created', 0.7765824794769287)]"
      ]
     },
     "execution_count": 13,
     "metadata": {},
     "output_type": "execute_result"
    }
   ],
   "source": [
    "large_model.most_similar(\"project\")\n",
    "# large_model.most_similar(positive=[\"project\"], negative=[\"wordpress\"])"
   ]
  },
  {
   "cell_type": "code",
   "execution_count": 14,
   "metadata": {},
   "outputs": [
    {
     "name": "stdout",
     "output_type": "stream",
     "text": [
      "['.', 'up', 'very', 'did', 'option', 'save', 'property', 'problems', 'packages', 'vector']\n"
     ]
    }
   ],
   "source": [
    "# Select the 1000 most frequently used words and sort them in descending order based on their frequency of usage\n",
    "words = sorted(model.vocab.keys(), key=lambda word: model.vocab[word].count, reverse=True)[:1000]\n",
    "\n",
    "print(words[::100])"
   ]
  },
  {
   "cell_type": "code",
   "execution_count": null,
   "metadata": {},
   "outputs": [],
   "source": []
  }
 ],
 "metadata": {
  "file_extension": ".py",
  "kernelspec": {
   "display_name": "Python 3.7.1 64-bit ('base': conda)",
   "language": "python",
   "name": "python37164bitbasecondaac0852bd93594678aebe973eda693d6e"
  },
  "language_info": {
   "codemirror_mode": {
    "name": "ipython",
    "version": 3
   },
   "file_extension": ".py",
   "mimetype": "text/x-python",
   "name": "python",
   "nbconvert_exporter": "python",
   "pygments_lexer": "ipython3",
   "version": "3.7.1"
  },
  "mimetype": "text/x-python",
  "name": "python",
  "npconvert_exporter": "python",
  "pygments_lexer": "ipython3",
  "version": 3
 },
 "nbformat": 4,
 "nbformat_minor": 2
}
